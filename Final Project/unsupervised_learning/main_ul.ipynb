{
 "cells": [
  {
   "cell_type": "code",
   "execution_count": 1,
   "id": "deb1e1f3-435e-496b-9d3e-e1542fd61954",
   "metadata": {},
   "outputs": [],
   "source": [
    "import pandas as pd\n",
    "from sklearn.cluster import KMeans\n",
    "import matplotlib.pyplot as plt\n",
    "from sklearn.preprocessing import StandardScaler"
   ]
  },
  {
   "cell_type": "code",
   "execution_count": 2,
   "id": "b07749e0-fba2-4970-90dc-2fcf0a89e9ec",
   "metadata": {},
   "outputs": [
    {
     "name": "stdout",
     "output_type": "stream",
     "text": [
      "  TransactionID CustomerID CustomerDOB CustGender CustLocation  \\\n",
      "0            T1   C5841053     10/1/94          F   JAMSHEDPUR   \n",
      "1            T2   C2142763      4/4/57          M      JHAJJAR   \n",
      "2            T3   C4417068    26/11/96          F       MUMBAI   \n",
      "3            T4   C5342380     14/9/73          F       MUMBAI   \n",
      "4            T5   C9031234     24/3/88          F  NAVI MUMBAI   \n",
      "\n",
      "   CustAccountBalance TransactionDate  TransactionTime  \\\n",
      "0            17819.05          2/8/16           143207   \n",
      "1             2270.69          2/8/16           141858   \n",
      "2            17874.44          2/8/16           142712   \n",
      "3           866503.21          2/8/16           142714   \n",
      "4             6714.43          2/8/16           181156   \n",
      "\n",
      "   TransactionAmount (INR)  \n",
      "0                     25.0  \n",
      "1                  27999.0  \n",
      "2                    459.0  \n",
      "3                   2060.0  \n",
      "4                   1762.5  \n"
     ]
    }
   ],
   "source": [
    "# Replace with your dataset path\n",
    "data = pd.read_csv('bank_transactions.csv')\n",
    "print(data.head())"
   ]
  },
  {
   "cell_type": "code",
   "execution_count": 3,
   "id": "3f2edc2a-ec68-49da-8ca2-c13710040ac1",
   "metadata": {},
   "outputs": [],
   "source": [
    "# Select numerical features\n",
    "numerical_data = data.select_dtypes(include=['float64', 'int64']).dropna()\n",
    "\n",
    "# Standardise the data\n",
    "scaler = StandardScaler()\n",
    "scaled_data = scaler.fit_transform(numerical_data)"
   ]
  },
  {
   "cell_type": "code",
   "execution_count": 4,
   "id": "746e2ab0-c042-4ed7-ae0b-5d9d3b51d1a9",
   "metadata": {},
   "outputs": [
    {
     "data": {
      "image/png": "[encoded data removed]",
      "text/plain": [
       "<Figure size 640x480 with 1 Axes>"
      ]
     },
     "metadata": {},
     "output_type": "display_data"
    }
   ],
   "source": [
    "inertia = []\n",
    "k_range = range(1, 11)\n",
    "for k in k_range:\n",
    "    kmeans = KMeans(n_clusters=k, random_state=42)\n",
    "    kmeans.fit(scaled_data)\n",
    "    inertia.append(kmeans.inertia_)\n",
    "\n",
    "plt.plot(k_range, inertia, marker='o')\n",
    "plt.xlabel('Number of Clusters')\n",
    "plt.ylabel('Inertia')\n",
    "plt.title('Elbow Method')\n",
    "plt.show()"
   ]
  },
  {
   "cell_type": "code",
   "execution_count": 6,
   "id": "3e28b4fd-65d5-48d5-b885-38e0ad53a8ab",
   "metadata": {},
   "outputs": [
    {
     "name": "stdout",
     "output_type": "stream",
     "text": [
      "  TransactionID CustomerID CustomerDOB CustGender CustLocation  \\\n",
      "0            T1   C5841053     10/1/94          F   JAMSHEDPUR   \n",
      "1            T2   C2142763      4/4/57          M      JHAJJAR   \n",
      "2            T3   C4417068    26/11/96          F       MUMBAI   \n",
      "3            T4   C5342380     14/9/73          F       MUMBAI   \n",
      "4            T5   C9031234     24/3/88          F  NAVI MUMBAI   \n",
      "\n",
      "   CustAccountBalance TransactionDate  TransactionTime  \\\n",
      "0            17819.05          2/8/16           143207   \n",
      "1             2270.69          2/8/16           141858   \n",
      "2            17874.44          2/8/16           142712   \n",
      "3           866503.21          2/8/16           142714   \n",
      "4             6714.43          2/8/16           181156   \n",
      "\n",
      "   TransactionAmount (INR)  Cluster  \n",
      "0                     25.0        1  \n",
      "1                  27999.0        1  \n",
      "2                    459.0        1  \n",
      "3                   2060.0        1  \n",
      "4                   1762.5        0  \n"
     ]
    },
    {
     "name": "stderr",
     "output_type": "stream",
     "text": [
      "C:\\Users\\badam\\AppData\\Local\\Temp\\ipykernel_21344\\199855418.py:10: SettingWithCopyWarning: \n",
      "A value is trying to be set on a copy of a slice from a DataFrame.\n",
      "Try using .loc[row_indexer,col_indexer] = value instead\n",
      "\n",
      "See the caveats in the documentation: https://pandas.pydata.org/pandas-docs/stable/user_guide/indexing.html#returning-a-view-versus-a-copy\n",
      "  data_cleaned['Cluster'] = clusters\n"
     ]
    }
   ],
   "source": [
    "# Apply K-Means clustering\n",
    "optimal_clusters = 4  # Use the number of clusters determined by the elbow plot\n",
    "kmeans = KMeans(n_clusters=optimal_clusters, random_state=42)\n",
    "clusters = kmeans.fit_predict(scaled_data)\n",
    "\n",
    "# Retain only the rows used for clustering\n",
    "data_cleaned = data.iloc[numerical_data.dropna().index]\n",
    "\n",
    "# Add the cluster labels to the cleaned dataset\n",
    "data_cleaned.loc['Cluster'] = clusters\n",
    "\n",
    "print(data_cleaned.head())"
   ]
  },
  {
   "cell_type": "code",
   "execution_count": null,
   "id": "969cd787-f980-4b94-a02b-3e3bd62c7652",
   "metadata": {},
   "outputs": [],
   "source": [
    "# Visualise the first two features (example)\n",
    "plt.scatter(scaled_data[:, 0], scaled_data[:, 1], c=clusters, cmap='viridis', s=50)\n",
    "plt.xlabel('Feature 1')\n",
    "plt.ylabel('Feature 2')\n",
    "plt.title('K-Means Clustering')\n",
    "plt.show()"
   ]
  }
 ],
 "metadata": {
  "kernelspec": {
   "display_name": "Python 3 (ipykernel)",
   "language": "python",
   "name": "python3"
  },
  "language_info": {
   "codemirror_mode": {
    "name": "ipython",
    "version": 3
   },
   "file_extension": ".py",
   "mimetype": "text/x-python",
   "name": "python",
   "nbconvert_exporter": "python",
   "pygments_lexer": "ipython3",
   "version": "3.12.2"
  }
 },
 "nbformat": 4,
 "nbformat_minor": 5
}
