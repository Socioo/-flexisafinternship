{
 "cells": [
  {
   "cell_type": "code",
   "execution_count": 1,
   "id": "f05d3f6f-680e-434d-b7d7-a65612eefd33",
   "metadata": {},
   "outputs": [
    {
     "name": "stdout",
     "output_type": "stream",
     "text": [
      "                                                Text  \\\n",
      "0         Hello, World! This is an example sentence.   \n",
      "1      Natural Language Processing is interesting!!!   \n",
      "2                What's your plan for today? #AI #ML   \n",
      "3    Python is great; however, it requires practice.   \n",
      "4  Are you ready to remove punctuations? Let's do...   \n",
      "5      Data science: It's fun, but also challenging.   \n",
      "6         When life gives you lemons, make lemonade!   \n",
      "7              Programming in Python? Sure! Why not.   \n",
      "8  Punctuations, like commas, periods, and exclam...   \n",
      "9  Do you love NLP? If so, you'll love this project.   \n",
      "\n",
      "                                     No_Punctuations  \n",
      "0            Hello World This is an example sentence  \n",
      "1         Natural Language Processing is interesting  \n",
      "2                    Whats your plan for today AI ML  \n",
      "3       Python is great however it requires practice  \n",
      "4    Are you ready to remove punctuations Lets do it  \n",
      "5          Data science Its fun but also challenging  \n",
      "6           When life gives you lemons make lemonade  \n",
      "7                 Programming in Python Sure Why not  \n",
      "8  Punctuations like commas periods and exclamati...  \n",
      "9      Do you love NLP If so youll love this project  \n"
     ]
    }
   ],
   "source": [
    "# Step 1: Import the necessary libraries\n",
    "import string\n",
    "import pandas as pd\n",
    "\n",
    "# Step 2: Create or load your dataset\n",
    "# We will use a sample dataset with sentences containing various punctuations\n",
    "data = {\n",
    "    'Text': [\n",
    "        \"Hello, World! This is an example sentence.\",\n",
    "        \"Natural Language Processing is interesting!!!\",\n",
    "        \"What's your plan for today? #AI #ML\",\n",
    "        \"Python is great; however, it requires practice.\",\n",
    "        \"Are you ready to remove punctuations? Let's do it!\",\n",
    "        \"Data science: It's fun, but also challenging.\",\n",
    "        \"When life gives you lemons, make lemonade!\",\n",
    "        \"Programming in Python? Sure! Why not.\",\n",
    "        \"Punctuations, like commas, periods, and exclamation marks, can be removed.\",\n",
    "        \"Do you love NLP? If so, you'll love this project.\"\n",
    "    ]\n",
    "}\n",
    "\n",
    "# Step 3: Create a pandas DataFrame\n",
    "df = pd.DataFrame(data)\n",
    "\n",
    "# Step 4: Define the function to remove punctuations\n",
    "df['No_Punctuations'] = df['Text'].apply(lambda x: x.translate(str.maketrans('', '', string.punctuation)))\n",
    "\n",
    "# Step 5: View the original and punctuation-removed text side by side\n",
    "print(df[['Text', 'No_Punctuations']])\n",
    "\n",
    "# Step 6: (Optional) Save the cleaned dataset to a CSV file\n",
    "df.to_csv('cleaned_text.csv', index=False)"
   ]
  }
 ],
 "metadata": {
  "kernelspec": {
   "display_name": "Python 3 (ipykernel)",
   "language": "python",
   "name": "python3"
  },
  "language_info": {
   "codemirror_mode": {
    "name": "ipython",
    "version": 3
   },
   "file_extension": ".py",
   "mimetype": "text/x-python",
   "name": "python",
   "nbconvert_exporter": "python",
   "pygments_lexer": "ipython3",
   "version": "3.12.6"
  }
 },
 "nbformat": 4,
 "nbformat_minor": 5
}
