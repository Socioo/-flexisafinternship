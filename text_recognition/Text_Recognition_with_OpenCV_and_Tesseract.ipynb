{
 "cells": [
  {
   "cell_type": "markdown",
   "id": "e729d5f8",
   "metadata": {},
   "source": [
    "# Text Recognition with OpenCV and Tesseract (OCR)\n",
    "This notebook demonstrates how to perform text recognition using OpenCV for image processing and Tesseract for Optical Character Recognition (OCR).\n",
    "We will preprocess an image, apply OCR, and visualise the detected text and bounding boxes around each detected character."
   ]
  },
  {
   "cell_type": "markdown",
   "id": "9b7fbeeb",
   "metadata": {},
   "source": [
    "## Step 1: Install Required Libraries\n",
    "We need to install `opencv-python` and `pytesseract` to proceed with this notebook.\n",
    "Run the following cells to install these packages if they are not already installed."
   ]
  },
  {
   "cell_type": "code",
   "execution_count": 1,
   "id": "51c8e2e1",
   "metadata": {},
   "outputs": [
    {
     "name": "stdout",
     "output_type": "stream",
     "text": [
      "Requirement already satisfied: opencv-python in c:\\users\\badam\\text_recognition\\.venv\\lib\\site-packages (4.10.0.84)\n",
      "Requirement already satisfied: numpy>=1.21.2 in c:\\users\\badam\\text_recognition\\.venv\\lib\\site-packages (from opencv-python) (2.1.2)\n"
     ]
    },
    {
     "name": "stderr",
     "output_type": "stream",
     "text": [
      "\n",
      "[notice] A new release of pip is available: 23.2.1 -> 24.3.1\n",
      "[notice] To update, run: python.exe -m pip install --upgrade pip\n"
     ]
    },
    {
     "name": "stdout",
     "output_type": "stream",
     "text": [
      "Requirement already satisfied: pytesseract in c:\\users\\badam\\text_recognition\\.venv\\lib\\site-packages (0.3.13)\n",
      "Requirement already satisfied: packaging>=21.3 in c:\\users\\badam\\text_recognition\\.venv\\lib\\site-packages (from pytesseract) (24.1)\n",
      "Requirement already satisfied: Pillow>=8.0.0 in c:\\users\\badam\\text_recognition\\.venv\\lib\\site-packages (from pytesseract) (11.0.0)\n"
     ]
    },
    {
     "name": "stderr",
     "output_type": "stream",
     "text": [
      "\n",
      "[notice] A new release of pip is available: 23.2.1 -> 24.3.1\n",
      "[notice] To update, run: python.exe -m pip install --upgrade pip\n"
     ]
    }
   ],
   "source": [
    "!pip install opencv-python\n",
    "!pip install pytesseract"
   ]
  },
  {
   "cell_type": "markdown",
   "id": "0d541d06",
   "metadata": {},
   "source": [
    "## Step 2: Import Libraries\n",
    "We import the necessary libraries: `cv2` for OpenCV and `pytesseract` for OCR processing."
   ]
  },
  {
   "cell_type": "code",
   "execution_count": 2,
   "id": "c7b50545",
   "metadata": {},
   "outputs": [
    {
     "ename": "ModuleNotFoundError",
     "evalue": "No module named 'cv2'",
     "output_type": "error",
     "traceback": [
      "\u001b[1;31m---------------------------------------------------------------------------\u001b[0m",
      "\u001b[1;31mModuleNotFoundError\u001b[0m                       Traceback (most recent call last)",
      "Cell \u001b[1;32mIn[2], line 1\u001b[0m\n\u001b[1;32m----> 1\u001b[0m \u001b[38;5;28;01mimport\u001b[39;00m \u001b[38;5;21;01mcv2\u001b[39;00m\n\u001b[0;32m      2\u001b[0m \u001b[38;5;28;01mimport\u001b[39;00m \u001b[38;5;21;01mpytesseract\u001b[39;00m\n\u001b[0;32m      4\u001b[0m \u001b[38;5;66;03m# (Optional) Set up Tesseract path if on Windows\u001b[39;00m\n\u001b[0;32m      5\u001b[0m \u001b[38;5;66;03m# Uncomment and update the path if needed\u001b[39;00m\n\u001b[0;32m      6\u001b[0m \u001b[38;5;66;03m# pytesseract.pytesseract.tesseract_cmd = r'C:\\Program Files\\Tesseract-OCR\\tesseract.exe'\u001b[39;00m\n",
      "\u001b[1;31mModuleNotFoundError\u001b[0m: No module named 'cv2'"
     ]
    }
   ],
   "source": [
    "import cv2\n",
    "import pytesseract\n",
    "\n",
    "# (Optional) Set up Tesseract path if on Windows\n",
    "# Uncomment and update the path if needed\n",
    "# pytesseract.pytesseract.tesseract_cmd = r'C:\\Program Files\\Tesseract-OCR\\tesseract.exe'"
   ]
  },
  {
   "cell_type": "markdown",
   "id": "6f40697c",
   "metadata": {},
   "source": [
    "## Step 3: Load and Preprocess the Image\n",
    "Load an image from the same directory as this notebook. If the image is in a different location, provide the appropriate path."
   ]
  },
  {
   "cell_type": "code",
   "execution_count": 3,
   "id": "b8223528",
   "metadata": {},
   "outputs": [
    {
     "ename": "NameError",
     "evalue": "name 'cv2' is not defined",
     "output_type": "error",
     "traceback": [
      "\u001b[1;31m---------------------------------------------------------------------------\u001b[0m",
      "\u001b[1;31mNameError\u001b[0m                                 Traceback (most recent call last)",
      "Cell \u001b[1;32mIn[3], line 5\u001b[0m\n\u001b[0;32m      2\u001b[0m image_path \u001b[38;5;241m=\u001b[39m \u001b[38;5;124m'\u001b[39m\u001b[38;5;124mimage-2.jpg\u001b[39m\u001b[38;5;124m'\u001b[39m  \u001b[38;5;66;03m# Replace 'my_image.jpg' with your actual image file name\u001b[39;00m\n\u001b[0;32m      4\u001b[0m \u001b[38;5;66;03m# Load the image using OpenCV\u001b[39;00m\n\u001b[1;32m----> 5\u001b[0m image \u001b[38;5;241m=\u001b[39m \u001b[43mcv2\u001b[49m\u001b[38;5;241m.\u001b[39mimread(image_path)\n\u001b[0;32m      7\u001b[0m \u001b[38;5;66;03m# Check if the image is loaded properly\u001b[39;00m\n\u001b[0;32m      8\u001b[0m \u001b[38;5;28;01mif\u001b[39;00m image \u001b[38;5;129;01mis\u001b[39;00m \u001b[38;5;28;01mNone\u001b[39;00m:\n",
      "\u001b[1;31mNameError\u001b[0m: name 'cv2' is not defined"
     ]
    }
   ],
   "source": [
    "# Set the image path\n",
    "image_path = 'image-2.jpg'  # Replace 'my_image.jpg' with your actual image file name\n",
    "\n",
    "# Load the image using OpenCV\n",
    "image = cv2.imread(image_path)\n",
    "\n",
    "# Check if the image is loaded properly\n",
    "if image is None:\n",
    "    print(\"Error: Could not open or find the image.\")\n",
    "else:\n",
    "    print(\"Image loaded successfully.\")"
   ]
  },
  {
   "cell_type": "markdown",
   "id": "dd54f59e",
   "metadata": {},
   "source": [
    "## Step 4: Convert to Grayscale and Apply Thresholding\n",
    "We convert the image to grayscale and then apply thresholding to enhance the text regions for better OCR results."
   ]
  },
  {
   "cell_type": "code",
   "execution_count": null,
   "id": "43a032d9",
   "metadata": {},
   "outputs": [],
   "source": [
    "# Convert image to grayscale\n",
    "gray = cv2.cvtColor(image, cv2.COLOR_BGR2GRAY)\n",
    "\n",
    "# Apply thresholding to preprocess the image for better OCR results\n",
    "threshold_image = cv2.threshold(gray, 150, 255, cv2.THRESH_BINARY_INV | cv2.THRESH_OTSU)[1]\n",
    "\n",
    "# Display the thresholded image using Matplotlib\n",
    "from matplotlib import pyplot as plt\n",
    "\n",
    "plt.figure(figsize=(8, 6))\n",
    "plt.imshow(threshold_image, cmap='gray')\n",
    "plt.title(\"Threshold Image\")\n",
    "plt.show()"
   ]
  },
  {
   "cell_type": "markdown",
   "id": "87bc0d3b",
   "metadata": {},
   "source": [
    "## Step 5: Perform OCR using Tesseract\n",
    "Now, we use Tesseract to perform OCR on the preprocessed image and extract the text."
   ]
  },
  {
   "cell_type": "code",
   "execution_count": null,
   "id": "9055fd1d",
   "metadata": {},
   "outputs": [],
   "source": [
    "# Perform OCR using Tesseract\n",
    "custom_config = r'--oem 3 --psm 6'  # Tesseract OCR configurations\n",
    "text = pytesseract.image_to_string(threshold_image, config=custom_config)\n",
    "\n",
    "# Print the recognised text\n",
    "print(\"Recognised Text:\")\n",
    "print(text)"
   ]
  },
  {
   "cell_type": "markdown",
   "id": "9ec6b4bb",
   "metadata": {},
   "source": [
    "## Step 6: Draw Bounding Boxes Around Detected Text (Optional)\n",
    "If you want to visualise the detected text, you can draw bounding boxes around each detected character. Let's add bounding boxes around each detected character using the `image_to_boxes` method from Tesseract."
   ]
  },
  {
   "cell_type": "code",
   "execution_count": null,
   "id": "3edbffac",
   "metadata": {},
   "outputs": [],
   "source": [
    "# Get the height and width of the image\n",
    "h, w, _ = image.shape\n",
    "boxes = pytesseract.image_to_boxes(threshold_image)\n",
    "\n",
    "# Draw bounding boxes around each detected character\n",
    "for box in boxes.splitlines():\n",
    "    box = box.split()\n",
    "    x, y, x2, y2 = int(box[1]), int(box[2]), int(box[3]), int(box[4])\n",
    "    # Since Tesseract uses the bottom-left as origin, we need to adjust coordinates for OpenCV\n",
    "    cv2.rectangle(image, (x, h - y2), (x2, h - y), (0, 255, 0), 2)\n",
    "\n",
    "# Display the image with bounding boxes\n",
    "plt.figure(figsize=(10, 8))\n",
    "plt.imshow(cv2.cvtColor(image, cv2.COLOR_BGR2RGB))\n",
    "plt.title(\"Image with Bounding Boxes\")\n",
    "plt.show()"
   ]
  }
 ],
 "metadata": {
  "kernelspec": {
   "display_name": "Python 3 (ipykernel)",
   "language": "python",
   "name": "python3"
  },
  "language_info": {
   "codemirror_mode": {
    "name": "ipython",
    "version": 3
   },
   "file_extension": ".py",
   "mimetype": "text/x-python",
   "name": "python",
   "nbconvert_exporter": "python",
   "pygments_lexer": "ipython3",
   "version": "3.12.2"
  }
 },
 "nbformat": 4,
 "nbformat_minor": 5
}
